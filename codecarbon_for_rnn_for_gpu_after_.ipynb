{
  "nbformat": 4,
  "nbformat_minor": 0,
  "metadata": {
    "colab": {
      "provenance": [],
      "gpuType": "T4"
    },
    "kernelspec": {
      "name": "python3",
      "display_name": "Python 3"
    },
    "language_info": {
      "name": "python"
    },
    "accelerator": "GPU"
  },
  "cells": [
    {
      "cell_type": "code",
      "source": [
        "from google.colab import drive\n",
        "drive.mount('/content/drive')"
      ],
      "metadata": {
        "colab": {
          "base_uri": "https://localhost:8080/"
        },
        "id": "C-UBTMUh06Co",
        "outputId": "37839f62-f9b5-4569-c0e9-52eb859084bd"
      },
      "execution_count": 1,
      "outputs": [
        {
          "output_type": "stream",
          "name": "stdout",
          "text": [
            "Drive already mounted at /content/drive; to attempt to forcibly remount, call drive.mount(\"/content/drive\", force_remount=True).\n"
          ]
        }
      ]
    },
    {
      "cell_type": "code",
      "source": [
        "import numpy as np\n",
        "import tensorflow as tf\n",
        "from tensorflow import keras\n",
        "\n",
        "dir='/content/drive/MyDrive/Datasets2023/WHOI-Plankton/' #specify your dir here\n",
        "\n",
        "IMAGES = np.load(dir+'IMAGES.npy')\n",
        "IM_class = np.load(dir+'IM_class.npy')\n",
        "class_labels = np.load(dir+'class_labels.npy')\n",
        "\n",
        "N_classes=len(np.unique(class_labels))"
      ],
      "metadata": {
        "id": "1JaYtg0tvCe7"
      },
      "execution_count": 2,
      "outputs": []
    },
    {
      "cell_type": "code",
      "source": [
        "keep_classes=np.array(['Leptocylindrus', 'Chaetoceros', 'dino30' , 'Rhizosolenia', 'Guinardia_delicatula',\n",
        "                       'Cerataulina', 'Cylindrotheca', 'Skeletonema', 'Thalassiosira', 'Ciliate_mix'])\n",
        "# reshape the images for input to CNN\n",
        "X= np.expand_dims(IMAGES, axis=3)\n",
        "# create the one-hot encoding of the training labels\n",
        "Y = keras.utils.to_categorical(class_labels, len(keep_classes))"
      ],
      "metadata": {
        "id": "NSxywilOw3S3"
      },
      "execution_count": 3,
      "outputs": []
    },
    {
      "cell_type": "code",
      "source": [
        "pip install codecarbon"
      ],
      "metadata": {
        "colab": {
          "base_uri": "https://localhost:8080/"
        },
        "id": "AECgbg-m1cot",
        "outputId": "a9a5864a-365a-485c-d835-e3d3e0d38144"
      },
      "execution_count": 4,
      "outputs": [
        {
          "output_type": "stream",
          "name": "stdout",
          "text": [
            "Requirement already satisfied: codecarbon in /usr/local/lib/python3.11/dist-packages (2.8.3)\n",
            "Requirement already satisfied: arrow in /usr/local/lib/python3.11/dist-packages (from codecarbon) (1.3.0)\n",
            "Requirement already satisfied: click in /usr/local/lib/python3.11/dist-packages (from codecarbon) (8.1.8)\n",
            "Requirement already satisfied: fief-client[cli] in /usr/local/lib/python3.11/dist-packages (from codecarbon) (0.20.0)\n",
            "Requirement already satisfied: pandas in /usr/local/lib/python3.11/dist-packages (from codecarbon) (2.2.2)\n",
            "Requirement already satisfied: prometheus-client in /usr/local/lib/python3.11/dist-packages (from codecarbon) (0.21.1)\n",
            "Requirement already satisfied: psutil in /usr/local/lib/python3.11/dist-packages (from codecarbon) (5.9.5)\n",
            "Requirement already satisfied: py-cpuinfo in /usr/local/lib/python3.11/dist-packages (from codecarbon) (9.0.0)\n",
            "Requirement already satisfied: pynvml in /usr/local/lib/python3.11/dist-packages (from codecarbon) (12.0.0)\n",
            "Requirement already satisfied: questionary in /usr/local/lib/python3.11/dist-packages (from codecarbon) (2.1.0)\n",
            "Requirement already satisfied: rapidfuzz in /usr/local/lib/python3.11/dist-packages (from codecarbon) (3.12.2)\n",
            "Requirement already satisfied: requests in /usr/local/lib/python3.11/dist-packages (from codecarbon) (2.32.3)\n",
            "Requirement already satisfied: rich in /usr/local/lib/python3.11/dist-packages (from codecarbon) (13.9.4)\n",
            "Requirement already satisfied: typer in /usr/local/lib/python3.11/dist-packages (from codecarbon) (0.15.2)\n",
            "Requirement already satisfied: python-dateutil>=2.7.0 in /usr/local/lib/python3.11/dist-packages (from arrow->codecarbon) (2.8.2)\n",
            "Requirement already satisfied: types-python-dateutil>=2.8.10 in /usr/local/lib/python3.11/dist-packages (from arrow->codecarbon) (2.9.0.20241206)\n",
            "Requirement already satisfied: httpx<0.28.0,>=0.21.3 in /usr/local/lib/python3.11/dist-packages (from fief-client[cli]->codecarbon) (0.27.2)\n",
            "Requirement already satisfied: jwcrypto<2.0.0,>=1.4 in /usr/local/lib/python3.11/dist-packages (from fief-client[cli]->codecarbon) (1.5.6)\n",
            "Requirement already satisfied: yaspin in /usr/local/lib/python3.11/dist-packages (from fief-client[cli]->codecarbon) (3.1.0)\n",
            "Requirement already satisfied: numpy>=1.23.2 in /usr/local/lib/python3.11/dist-packages (from pandas->codecarbon) (2.0.2)\n",
            "Requirement already satisfied: pytz>=2020.1 in /usr/local/lib/python3.11/dist-packages (from pandas->codecarbon) (2025.2)\n",
            "Requirement already satisfied: tzdata>=2022.7 in /usr/local/lib/python3.11/dist-packages (from pandas->codecarbon) (2025.2)\n",
            "Requirement already satisfied: nvidia-ml-py<13.0.0a0,>=12.0.0 in /usr/local/lib/python3.11/dist-packages (from pynvml->codecarbon) (12.570.86)\n",
            "Requirement already satisfied: prompt_toolkit<4.0,>=2.0 in /usr/local/lib/python3.11/dist-packages (from questionary->codecarbon) (3.0.50)\n",
            "Requirement already satisfied: charset-normalizer<4,>=2 in /usr/local/lib/python3.11/dist-packages (from requests->codecarbon) (3.4.1)\n",
            "Requirement already satisfied: idna<4,>=2.5 in /usr/local/lib/python3.11/dist-packages (from requests->codecarbon) (3.10)\n",
            "Requirement already satisfied: urllib3<3,>=1.21.1 in /usr/local/lib/python3.11/dist-packages (from requests->codecarbon) (2.3.0)\n",
            "Requirement already satisfied: certifi>=2017.4.17 in /usr/local/lib/python3.11/dist-packages (from requests->codecarbon) (2025.1.31)\n",
            "Requirement already satisfied: markdown-it-py>=2.2.0 in /usr/local/lib/python3.11/dist-packages (from rich->codecarbon) (3.0.0)\n",
            "Requirement already satisfied: pygments<3.0.0,>=2.13.0 in /usr/local/lib/python3.11/dist-packages (from rich->codecarbon) (2.18.0)\n",
            "Requirement already satisfied: typing-extensions>=3.7.4.3 in /usr/local/lib/python3.11/dist-packages (from typer->codecarbon) (4.13.0)\n",
            "Requirement already satisfied: shellingham>=1.3.0 in /usr/local/lib/python3.11/dist-packages (from typer->codecarbon) (1.5.4)\n",
            "Requirement already satisfied: anyio in /usr/local/lib/python3.11/dist-packages (from httpx<0.28.0,>=0.21.3->fief-client[cli]->codecarbon) (4.9.0)\n",
            "Requirement already satisfied: httpcore==1.* in /usr/local/lib/python3.11/dist-packages (from httpx<0.28.0,>=0.21.3->fief-client[cli]->codecarbon) (1.0.7)\n",
            "Requirement already satisfied: sniffio in /usr/local/lib/python3.11/dist-packages (from httpx<0.28.0,>=0.21.3->fief-client[cli]->codecarbon) (1.3.1)\n",
            "Requirement already satisfied: h11<0.15,>=0.13 in /usr/local/lib/python3.11/dist-packages (from httpcore==1.*->httpx<0.28.0,>=0.21.3->fief-client[cli]->codecarbon) (0.14.0)\n",
            "Requirement already satisfied: cryptography>=3.4 in /usr/local/lib/python3.11/dist-packages (from jwcrypto<2.0.0,>=1.4->fief-client[cli]->codecarbon) (43.0.3)\n",
            "Requirement already satisfied: mdurl~=0.1 in /usr/local/lib/python3.11/dist-packages (from markdown-it-py>=2.2.0->rich->codecarbon) (0.1.2)\n",
            "Requirement already satisfied: wcwidth in /usr/local/lib/python3.11/dist-packages (from prompt_toolkit<4.0,>=2.0->questionary->codecarbon) (0.2.13)\n",
            "Requirement already satisfied: six>=1.5 in /usr/local/lib/python3.11/dist-packages (from python-dateutil>=2.7.0->arrow->codecarbon) (1.17.0)\n",
            "Requirement already satisfied: termcolor<2.4.0,>=2.2.0 in /usr/local/lib/python3.11/dist-packages (from yaspin->fief-client[cli]->codecarbon) (2.3.0)\n",
            "Requirement already satisfied: cffi>=1.12 in /usr/local/lib/python3.11/dist-packages (from cryptography>=3.4->jwcrypto<2.0.0,>=1.4->fief-client[cli]->codecarbon) (1.17.1)\n",
            "Requirement already satisfied: pycparser in /usr/local/lib/python3.11/dist-packages (from cffi>=1.12->cryptography>=3.4->jwcrypto<2.0.0,>=1.4->fief-client[cli]->codecarbon) (2.22)\n"
          ]
        }
      ]
    },
    {
      "cell_type": "code",
      "source": [
        "dir='/content/drive/MyDrive/Datasets2023/WHOI-Plankton/' #specify your dir here\n",
        "\n",
        "IMAGES = np.load(dir+'IMAGES.npy')\n",
        "IM_class = np.load(dir+'IM_class.npy')\n",
        "class_labels = np.load(dir+'class_labels.npy')\n",
        "\n",
        "N_classes=len(np.unique(class_labels))"
      ],
      "metadata": {
        "id": "QT6jxP1XuFsv"
      },
      "execution_count": 5,
      "outputs": []
    },
    {
      "cell_type": "code",
      "source": [
        "import tensorflow as tf\n",
        "from tensorflow import keras\n",
        "from tensorflow.keras.optimizers import AdamW\n",
        "from codecarbon import EmissionsTracker\n",
        "import time\n",
        "\n",
        "\n",
        "input_shape = (64, 64, 1)\n",
        "output_shape = len(keep_classes)\n",
        "\n",
        "val_split = 0.2\n",
        "ind_val = (np.random.rand(X.shape[0]) < val_split)\n",
        "\n",
        "X_val, Y_val = X[ind_val], Y[ind_val]\n",
        "X_train, Y_train = X[~ind_val], Y[~ind_val]\n",
        "\n",
        "def create_rnn_model(input_shape, output_shape):\n",
        "    x = keras.layers.Input(shape=input_shape)\n",
        "\n",
        "    y = keras.layers.Conv2D(8, (3,3), activation='relu', padding='same')(x)\n",
        "    y = keras.layers.Conv2D(8, (3,3), activation='relu', padding='same')(y)\n",
        "    y = y + x\n",
        "    y = keras.layers.MaxPooling2D(pool_size=(2,2))(y)\n",
        "\n",
        "    y = keras.layers.Conv2D(16, (3,3), activation='relu', padding='same')(y)\n",
        "    y0 = y\n",
        "    y = keras.layers.Conv2D(16, (3,3), activation='relu', padding='same')(y)\n",
        "    y = keras.layers.Conv2D(16, (3,3), activation='relu', padding='same')(y)\n",
        "    y = y0 + y\n",
        "    y = keras.layers.MaxPooling2D(pool_size=(2,2))(y)\n",
        "\n",
        "    y = keras.layers.Conv2D(32, (3,3), activation='relu', padding='same')(y)\n",
        "    y1 = y\n",
        "    y = keras.layers.Conv2D(32, (3,3), activation='relu', padding='same')(y)\n",
        "    y = keras.layers.Conv2D(32, (3,3), activation='relu', padding='same')(y)\n",
        "    y = y1 + y\n",
        "    y = keras.layers.MaxPooling2D(pool_size=(2,2))(y)\n",
        "\n",
        "    y = keras.layers.Conv2D(64, (3,3), activation='relu', padding='same')(y)\n",
        "    y2 = y\n",
        "    y = keras.layers.Conv2D(64, (3,3), activation='relu', padding='same')(y)\n",
        "    y = keras.layers.Conv2D(64, (3,3), activation='relu', padding='same')(y)\n",
        "    y = y2 + y\n",
        "    y = keras.layers.MaxPooling2D(pool_size=(2,2))(y)\n",
        "\n",
        "    y = keras.layers.Conv2D(128, (3,3), activation='relu', padding='same')(y)\n",
        "    y3 = y\n",
        "    y = keras.layers.Conv2D(128, (3,3), activation='relu', padding='same')(y)\n",
        "    y = keras.layers.Conv2D(128, (3,3), activation='relu', padding='same')(y)\n",
        "    y = y3 + y\n",
        "    y = keras.layers.MaxPooling2D(pool_size=(2,2))(y)\n",
        "\n",
        "    y = keras.layers.Conv2D(256, (3,3), activation='relu', padding='same')(y)\n",
        "\n",
        "    y = keras.layers.GlobalAveragePooling2D()(y)\n",
        "    y = keras.layers.Dropout(0.5)(y)\n",
        "    y = keras.layers.Dense(output_shape, activation='softmax')(y)\n",
        "\n",
        "    model = keras.models.Model(inputs=x, outputs=y)\n",
        "\n",
        "\n",
        "    model.compile(optimizer=AdamW(learning_rate=0.001, weight_decay=1e-4),\n",
        "                  loss='categorical_crossentropy',\n",
        "                  metrics=['accuracy'])\n",
        "\n",
        "    return model\n",
        "\n",
        "\n",
        "input_shape = (64,64,1)\n",
        "output_shape = 10\n",
        "batch_size = 512\n",
        "# for 5 runs\n",
        "n_epochs = 25\n",
        "num_runs = 5\n",
        "\n",
        "\n",
        "for i in range(num_runs):\n",
        "    tracker = EmissionsTracker(allow_multiple_runs=True)\n",
        "    tracker.start()\n",
        "\n",
        "\n",
        "    model = create_rnn_model(input_shape, output_shape)\n",
        "    hist = model.fit(X_train, Y_train, epochs=n_epochs, batch_size=batch_size, validation_data=(X_val, Y_val), verbose=1)\n",
        "\n",
        "\n",
        "    emissions = tracker.stop()\n",
        "\n"
      ],
      "metadata": {
        "colab": {
          "base_uri": "https://localhost:8080/"
        },
        "id": "ISTeRXC5CBRz",
        "outputId": "6f574274-7ab2-4271-e37b-ddae4988e53d"
      },
      "execution_count": null,
      "outputs": [
        {
          "output_type": "stream",
          "name": "stderr",
          "text": [
            "[codecarbon WARNING @ 03:58:54] Multiple instances of codecarbon are allowed to run at the same time.\n",
            "[codecarbon INFO @ 03:58:54] [setup] RAM Tracking...\n",
            "[codecarbon INFO @ 03:58:54] [setup] CPU Tracking...\n",
            "[codecarbon WARNING @ 03:58:54] No CPU tracking mode found. Falling back on CPU constant mode. \n",
            " Linux OS detected: Please ensure RAPL files exist at \\sys\\class\\powercap\\intel-rapl to measure CPU\n",
            "\n",
            "[codecarbon WARNING @ 03:58:55] We saw that you have a Intel(R) Xeon(R) CPU @ 2.20GHz but we don't know it. Please contact us.\n",
            "[codecarbon INFO @ 03:58:55] CPU Model on constant consumption mode: Intel(R) Xeon(R) CPU @ 2.20GHz\n",
            "[codecarbon INFO @ 03:58:55] [setup] GPU Tracking...\n",
            "[codecarbon INFO @ 03:58:55] No GPU found.\n",
            "[codecarbon INFO @ 03:58:55] >>> Tracker's metadata:\n",
            "[codecarbon INFO @ 03:58:55]   Platform system: Linux-6.1.85+-x86_64-with-glibc2.35\n",
            "[codecarbon INFO @ 03:58:55]   Python version: 3.11.11\n",
            "[codecarbon INFO @ 03:58:55]   CodeCarbon version: 2.8.3\n",
            "[codecarbon INFO @ 03:58:55]   Available RAM : 12.675 GB\n",
            "[codecarbon INFO @ 03:58:55]   CPU count: 2\n",
            "[codecarbon INFO @ 03:58:55]   CPU model: Intel(R) Xeon(R) CPU @ 2.20GHz\n",
            "[codecarbon INFO @ 03:58:55]   GPU count: None\n",
            "[codecarbon INFO @ 03:58:55]   GPU model: None\n",
            "[codecarbon INFO @ 03:58:56] Saving emissions data to file /content/emissions.csv\n"
          ]
        },
        {
          "output_type": "stream",
          "name": "stdout",
          "text": [
            "Epoch 1/25\n"
          ]
        },
        {
          "output_type": "stream",
          "name": "stderr",
          "text": [
            "[codecarbon INFO @ 03:59:11] Energy consumed for RAM : 0.000020 kWh. RAM Power : 4.7530388832092285 W\n",
            "[codecarbon INFO @ 03:59:11] Energy consumed for all CPUs : 0.000177 kWh. Total CPU Power : 42.5 W\n",
            "[codecarbon INFO @ 03:59:11] 0.000197 kWh of electricity used since the beginning.\n"
          ]
        },
        {
          "output_type": "stream",
          "name": "stdout",
          "text": [
            "\u001b[1m  3/101\u001b[0m \u001b[37m━━━━━━━━━━━━━━━━━━━━\u001b[0m \u001b[1m8:38\u001b[0m 5s/step - accuracy: 0.1172 - loss: 2.3028"
          ]
        },
        {
          "output_type": "stream",
          "name": "stderr",
          "text": [
            "[codecarbon INFO @ 03:59:26] Energy consumed for RAM : 0.000040 kWh. RAM Power : 4.7530388832092285 W\n",
            "[codecarbon INFO @ 03:59:26] Energy consumed for all CPUs : 0.000354 kWh. Total CPU Power : 42.5 W\n",
            "[codecarbon INFO @ 03:59:26] 0.000394 kWh of electricity used since the beginning.\n"
          ]
        },
        {
          "output_type": "stream",
          "name": "stdout",
          "text": [
            "\u001b[1m  6/101\u001b[0m \u001b[32m━\u001b[0m\u001b[37m━━━━━━━━━━━━━━━━━━━\u001b[0m \u001b[1m8:03\u001b[0m 5s/step - accuracy: 0.1195 - loss: 2.2986"
          ]
        },
        {
          "output_type": "stream",
          "name": "stderr",
          "text": [
            "[codecarbon INFO @ 03:59:41] Energy consumed for RAM : 0.000059 kWh. RAM Power : 4.7530388832092285 W\n",
            "[codecarbon INFO @ 03:59:41] Energy consumed for all CPUs : 0.000531 kWh. Total CPU Power : 42.5 W\n",
            "[codecarbon INFO @ 03:59:41] 0.000591 kWh of electricity used since the beginning.\n"
          ]
        },
        {
          "output_type": "stream",
          "name": "stdout",
          "text": [
            "\b\b\b\b\b\b\b\b\b\b\b\b\b\b\b\b\b\b\b\b\b\b\b\b\b\b\b\b\b\b\b\b\b\b\b\b\b\b\b\b\b\b\b\b\b\b\b\b\b\b\b\b\b\b\b\b\b\b\b\b\b\b\b\b\b\b\b\b\b\b\b\b\b\b\b\r\u001b[1m  7/101\u001b[0m \u001b[32m━\u001b[0m\u001b[37m━━━━━━━━━━━━━━━━━━━\u001b[0m \u001b[1m7:46\u001b[0m 5s/step - accuracy: 0.1209 - loss: 2.2961"
          ]
        }
      ]
    }
  ]
}